{
 "cells": [
  {
   "cell_type": "code",
   "execution_count": 7,
   "id": "9d73daba",
   "metadata": {},
   "outputs": [
    {
     "name": "stdout",
     "output_type": "stream",
     "text": [
      "MY FAVOURITE TVSHOWS LIST IS :\n",
      "TVD\n",
      "THE ORIGINAL\n",
      "LUCIFER\n",
      "MR ROBOT\n",
      "PEAKY BLINDER\n",
      "MY FAVOURITE MOVIES LIST IS :\n",
      "3 IDIOTS\n",
      "AVENGER:ENDGAME\n",
      "FIVE FEET APART\n",
      "INCEPTION\n",
      "EXTRACTION\n"
     ]
    }
   ],
   "source": [
    "TVSHOWS=[\"TVD\",\"THE ORIGINAL\",\"LUCIFER\",\"MR ROBOT\",\"PEAKY BLINDER\"]\n",
    "MOVIES=[\"3 IDIOTS\",\"AVENGER:ENDGAME\",\"FIVE FEET APART\",\"INCEPTION\",\"EXTRACTION\"]\n",
    "print(\"MY FAVOURITE TVSHOWS LIST IS :\")\n",
    "for a in TVSHOWS:\n",
    "   ( print(a)\n",
    "   )\n",
    "print(\"MY FAVOURITE MOVIES LIST IS :\")\n",
    "for i in MOVIES:\n",
    "    print(i)\n"
   ]
  },
  {
   "cell_type": "code",
   "execution_count": 8,
   "id": "af244dde",
   "metadata": {},
   "outputs": [
    {
     "name": "stdout",
     "output_type": "stream",
     "text": [
      "use of append operator\n",
      "ENTER 1st TV SHOW :RIVERDALE\n",
      "ENTER 2nd TV SHOW :FLASH\n",
      "['TVD', 'THE ORIGINAL', 'LUCIFER', 'MR ROBOT', 'PEAKY BLINDER', 'RIVERDALE', 'RIVERDALE']\n"
     ]
    }
   ],
   "source": [
    "print(\"use of append operator\")\n",
    "\n",
    "fav1=input(\"ENTER 1st TV SHOW :\")\n",
    "fav2=input(\"ENTER 2nd TV SHOW :\")\n",
    "TVSHOWS.append(fav1)\n",
    "TVSHOWS.append(fav1)\n",
    "print(TVSHOWS)"
   ]
  },
  {
   "cell_type": "code",
   "execution_count": 11,
   "id": "ddcfb6f2",
   "metadata": {},
   "outputs": [
    {
     "name": "stdout",
     "output_type": "stream",
     "text": [
      "SLICING\n",
      "The list is : ['TVD', 'THE ORIGINAL', 'LUCIFER', 'MR ROBOT', 'PEAKY BLINDER', 'RIVERDALE', 'RIVERDALE']\n"
     ]
    },
    {
     "data": {
      "text/plain": [
       "['PEAKY BLINDER']"
      ]
     },
     "execution_count": 11,
     "metadata": {},
     "output_type": "execute_result"
    }
   ],
   "source": [
    "print(\"SLICING\")\n",
    "print(\"The list is :\",TVSHOWS)\n",
    "TVSHOWS[4:5]\n"
   ]
  },
  {
   "cell_type": "code",
   "execution_count": 13,
   "id": "0ca3418f",
   "metadata": {},
   "outputs": [
    {
     "name": "stdout",
     "output_type": "stream",
     "text": [
      "THE SUM IS : 22\n"
     ]
    }
   ],
   "source": [
    "L1=[2,3,4,6,7]\n",
    "SUM=0\n",
    "for i in L1:\n",
    "    SUM=SUM+i\n",
    "print(\"THE SUM IS :\",SUM)  \n",
    "    "
   ]
  },
  {
   "cell_type": "code",
   "execution_count": 18,
   "id": "78554ab9",
   "metadata": {},
   "outputs": [
    {
     "name": "stdout",
     "output_type": "stream",
     "text": [
      "PATTERN\n",
      "1\n",
      "12\n",
      "123\n",
      "1234\n",
      "12345\n"
     ]
    }
   ],
   "source": [
    "print(\"PATTERN\")\n",
    "h=0\n",
    "for i in range(1,6):\n",
    "    h=h*10+i \n",
    "    print(h)"
   ]
  }
 ],
 "metadata": {
  "kernelspec": {
   "display_name": "Python 3",
   "language": "python",
   "name": "python3"
  },
  "language_info": {
   "codemirror_mode": {
    "name": "ipython",
    "version": 3
   },
   "file_extension": ".py",
   "mimetype": "text/x-python",
   "name": "python",
   "nbconvert_exporter": "python",
   "pygments_lexer": "ipython3",
   "version": "3.8.8"
  }
 },
 "nbformat": 4,
 "nbformat_minor": 5
}
